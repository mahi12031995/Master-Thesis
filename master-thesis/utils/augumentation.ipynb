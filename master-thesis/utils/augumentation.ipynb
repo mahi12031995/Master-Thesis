{
 "cells": [
  {
   "cell_type": "code",
   "execution_count": 1,
   "id": "000e2ce9",
   "metadata": {},
   "outputs": [],
   "source": [
    "import os\n",
    "import cv2\n",
    "from tqdm import tqdm\n",
    "from glob import glob\n",
    "from albumentations import CenterCrop, RandomRotate90, GridDistortion, HorizontalFlip, VerticalFlip"
   ]
  },
  {
   "cell_type": "code",
   "execution_count": 2,
   "id": "1f746910",
   "metadata": {},
   "outputs": [],
   "source": [
    "def load_data(path):\n",
    "    images = sorted(glob(os.path.join(path, \"images/*\")))\n",
    "    masks = sorted(glob(os.path.join(path, \"masks/*\")))\n",
    "    return images, masks"
   ]
  },
  {
   "cell_type": "code",
   "execution_count": 3,
   "id": "fda8bdc2",
   "metadata": {},
   "outputs": [],
   "source": [
    "def augment_data(images, masks, save_path, augment=True):\n",
    "    H = 513\n",
    "    W = 513\n",
    "\n",
    "    for x, y in tqdm(zip(images, masks), total=len(images)):\n",
    "        name = x.split(\"/\")[-1].split(\".\")\n",
    "        \"\"\" Extracting the name and extension of the image and the mask. \"\"\"\n",
    "        image_name = name[0]\n",
    "        image_extn = name[1]\n",
    "\n",
    "        name = y.split(\"/\")[-1].split(\".\")\n",
    "        mask_name = name[0]\n",
    "        mask_extn = name[1]\n",
    "\n",
    "        \"\"\" Reading image and mask. \"\"\"\n",
    "        x = cv2.imread(x, cv2.IMREAD_COLOR)\n",
    "        y = cv2.imread(y, cv2.IMREAD_COLOR)\n",
    "\n",
    "        \"\"\" Augmentation \"\"\"\n",
    "        if augment == True:\n",
    "\n",
    "            aug = HorizontalFlip(p=1.0)\n",
    "            augmented = aug(image=x, mask=y)\n",
    "            x1 = augmented['image']\n",
    "            y1 = augmented['mask']\n",
    "\n",
    "            aug = VerticalFlip(p=1.0)\n",
    "            augmented = aug(image=x, mask=y)\n",
    "            x2 = augmented['image']\n",
    "            y2 = augmented['mask']\n",
    "            \n",
    "            aug = RandomRotate90(p=1.0)\n",
    "            augmented = aug(image=x, mask=y)\n",
    "            x3 = augmented['image']\n",
    "            y3 = augmented['mask']\n",
    "            \n",
    "\n",
    "            save_images = [x, x1, x2,x3]\n",
    "            save_masks =  [y, y1, y2,y3]\n",
    "        else:\n",
    "            save_images = [x]\n",
    "            save_masks = [y]\n",
    "\n",
    "        \"\"\" Saving the image and mask. \"\"\"\n",
    "        idx = 0\n",
    "        for i, m in zip(save_images, save_masks):\n",
    "            i = cv2.resize(i, (W, H))\n",
    "            m = cv2.resize(m, (W, H))\n",
    "\n",
    "            if len(images) == 1:\n",
    "                tmp_img_name = f\"{image_name}.{image_extn}\"\n",
    "                tmp_mask_name = f\"{mask_name}.{mask_extn}\"\n",
    "            else:\n",
    "                tmp_img_name = f\"{image_name}_{idx}.{image_extn}\"\n",
    "                tmp_mask_name = f\"{mask_name}_{idx}.{mask_extn}\"\n",
    "\n",
    "            image_path = os.path.join(save_path, tmp_img_name)\n",
    "            mask_path = os.path.join(save_path, tmp_mask_name)\n",
    "        \n",
    "\n",
    "            cv2.imwrite(image_path, i)\n",
    "            cv2.imwrite(mask_path, m)\n",
    "\n",
    "            idx += 1\n"
   ]
  },
  {
   "cell_type": "code",
   "execution_count": 4,
   "id": "d049a6be",
   "metadata": {
    "scrolled": true
   },
   "outputs": [
    {
     "name": "stdout",
     "output_type": "stream",
     "text": [
      "Original Images: 200 - Original Masks: 200\n"
     ]
    },
    {
     "name": "stderr",
     "output_type": "stream",
     "text": [
      "100%|████████████████████████████████████████████████████████████████████████████████| 200/200 [00:22<00:00,  8.72it/s]"
     ]
    },
    {
     "name": "stdout",
     "output_type": "stream",
     "text": [
      "Augmented Images: 800 - Augmented Masks: 800\n"
     ]
    },
    {
     "name": "stderr",
     "output_type": "stream",
     "text": [
      "\n"
     ]
    }
   ],
   "source": [
    "path = \"D:/Official/Masters Studies/Thesis/Dataset/Segmentation/Bolt Dataset/selected_set/Bolt_1299_Aug/red cables/\"\n",
    "new_path = \"D:/Official/Masters Studies/Thesis/Dataset/Segmentation/Bolt Dataset/selected_set/Bolt_1299_Aug/red cables/new\"\n",
    "images, masks = load_data(path)\n",
    "print(f\"Original Images: {len(images)} - Original Masks: {len(masks)}\")\n",
    "augment_data(images, masks, new_path, augment=True)\n",
    "images, masks = load_data(new_path)\n",
    "print(f\"Augmented Images: {len(images)} - Augmented Masks: {len(masks)}\")"
   ]
  },
  {
   "cell_type": "code",
   "execution_count": null,
   "id": "47fe9e83",
   "metadata": {},
   "outputs": [],
   "source": []
  }
 ],
 "metadata": {
  "kernelspec": {
   "display_name": "Python 3",
   "language": "python",
   "name": "python3"
  },
  "language_info": {
   "codemirror_mode": {
    "name": "ipython",
    "version": 3
   },
   "file_extension": ".py",
   "mimetype": "text/x-python",
   "name": "python",
   "nbconvert_exporter": "python",
   "pygments_lexer": "ipython3",
   "version": "3.6.5"
  }
 },
 "nbformat": 4,
 "nbformat_minor": 5
}
