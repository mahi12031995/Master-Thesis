{
 "cells": [
  {
   "cell_type": "code",
   "execution_count": 1,
   "id": "918d3a5d",
   "metadata": {},
   "outputs": [],
   "source": [
    "import argparse\n",
    "import base64\n",
    "import json\n",
    "import os\n",
    "import os.path as osp\n",
    "\n",
    "import imgviz\n",
    "import PIL.Image\n",
    "\n",
    "from labelme.logger import logger\n",
    "from labelme import utils"
   ]
  },
  {
   "cell_type": "code",
   "execution_count": 2,
   "id": "0896884d",
   "metadata": {},
   "outputs": [
    {
     "name": "stdout",
     "output_type": "stream",
     "text": [
      "D:\\Official\\Masters Studies\\Thesis\\Dataset\\Segmentation\\Bolt Dataset\\selected_set\\cropped val set\\loose bolts 45\\annotations\n",
      "46\r"
     ]
    },
    {
     "ename": "FileNotFoundError",
     "evalue": "[Errno 2] No such file or directory: ''",
     "output_type": "error",
     "traceback": [
      "\u001b[1;31m---------------------------------------------------------------------------\u001b[0m",
      "\u001b[1;31mFileNotFoundError\u001b[0m                         Traceback (most recent call last)",
      "\u001b[1;32m<ipython-input-2-ed16a7c2b98e>\u001b[0m in \u001b[0;36m<module>\u001b[1;34m\u001b[0m\n\u001b[0;32m      6\u001b[0m     \u001b[0mout_dir\u001b[0m \u001b[1;33m=\u001b[0m \u001b[1;34m\"D:/Official/Masters Studies/Thesis/Dataset/Segmentation/Bolt Dataset/selected_set/cropped val set/loose bolts 45/gt\"\u001b[0m\u001b[1;33m\u001b[0m\u001b[0m\n\u001b[0;32m      7\u001b[0m \u001b[1;33m\u001b[0m\u001b[0m\n\u001b[1;32m----> 8\u001b[1;33m     \u001b[0mdata\u001b[0m \u001b[1;33m=\u001b[0m \u001b[0mjson\u001b[0m\u001b[1;33m.\u001b[0m\u001b[0mload\u001b[0m\u001b[1;33m(\u001b[0m\u001b[0mopen\u001b[0m\u001b[1;33m(\u001b[0m\u001b[0mjson_file\u001b[0m\u001b[1;33m)\u001b[0m\u001b[1;33m)\u001b[0m\u001b[1;33m\u001b[0m\u001b[0m\n\u001b[0m\u001b[0;32m      9\u001b[0m     \u001b[0mimageData\u001b[0m \u001b[1;33m=\u001b[0m \u001b[0mdata\u001b[0m\u001b[1;33m.\u001b[0m\u001b[0mget\u001b[0m\u001b[1;33m(\u001b[0m\u001b[1;34m\"imageData\"\u001b[0m\u001b[1;33m)\u001b[0m\u001b[1;33m\u001b[0m\u001b[0m\n\u001b[0;32m     10\u001b[0m \u001b[1;33m\u001b[0m\u001b[0m\n",
      "\u001b[1;31mFileNotFoundError\u001b[0m: [Errno 2] No such file or directory: ''"
     ]
    }
   ],
   "source": [
    "%cd \"D:\\Official\\Masters Studies\\Thesis\\Dataset\\Segmentation\\Bolt Dataset\\selected_set\\cropped val set\\loose bolts 45\\annotations\"\n",
    "my_file = open(\"mahi.txt\", \"r\")\n",
    "data = my_file.read().split(\"\\n\")\n",
    "for i,d in enumerate(data):\n",
    "    json_file = d\n",
    "    out_dir = \"D:/Official/Masters Studies/Thesis/Dataset/Segmentation/Bolt Dataset/selected_set/cropped val set/loose bolts 45/gt\"\n",
    "\n",
    "    data = json.load(open(json_file))\n",
    "    imageData = data.get(\"imageData\")\n",
    "\n",
    "    if not imageData:\n",
    "        imagePath = os.path.join(os.path.dirname(json_file), data[\"imagePath\"])\n",
    "        with open(imagePath, \"rb\") as f:\n",
    "            imageData = f.read()\n",
    "            imageData = base64.b64encode(imageData).decode(\"utf-8\")\n",
    "    img = utils.img_b64_to_arr(imageData)\n",
    "\n",
    "    label_name_to_value = {\"_background_\": 0}\n",
    "    for shape in sorted(data[\"shapes\"], key=lambda x: x[\"label\"]):\n",
    "        label_name = shape[\"label\"]\n",
    "        if label_name in label_name_to_value:\n",
    "            label_value = label_name_to_value[label_name]\n",
    "        else:\n",
    "            label_value = len(label_name_to_value)\n",
    "            label_name_to_value[label_name] = label_value\n",
    "    lbl, _ = utils.shapes_to_label(\n",
    "        img.shape, data[\"shapes\"], label_name_to_value\n",
    "    )\n",
    "\n",
    "    label_names = [None] * (max(label_name_to_value.values()) + 1)\n",
    "    for name, value in label_name_to_value.items():\n",
    "        label_names[value] = name\n",
    "\n",
    "    lbl_viz = imgviz.label2rgb(\n",
    "        lbl, imgviz.asgray(img), label_names=label_names, loc=\"rb\"\n",
    "    )\n",
    "\n",
    "    utils.lblsave(osp.join(out_dir,str(d[0:8]) + \".png\"), lbl)\n",
    "    print(i, end='\\r')\n"
   ]
  },
  {
   "cell_type": "code",
   "execution_count": null,
   "id": "9318a51c",
   "metadata": {},
   "outputs": [],
   "source": []
  }
 ],
 "metadata": {
  "kernelspec": {
   "display_name": "Python 3",
   "language": "python",
   "name": "python3"
  },
  "language_info": {
   "codemirror_mode": {
    "name": "ipython",
    "version": 3
   },
   "file_extension": ".py",
   "mimetype": "text/x-python",
   "name": "python",
   "nbconvert_exporter": "python",
   "pygments_lexer": "ipython3",
   "version": "3.6.5"
  }
 },
 "nbformat": 4,
 "nbformat_minor": 5
}
