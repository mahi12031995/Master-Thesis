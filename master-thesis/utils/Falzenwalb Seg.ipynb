{
 "cells": [
  {
   "cell_type": "code",
   "execution_count": 1,
   "id": "57641c8e",
   "metadata": {},
   "outputs": [],
   "source": [
    "from skimage.segmentation import mark_boundaries\n",
    "import skimage.segmentation\n",
    "from matplotlib import pyplot as plt\n",
    "import numpy as np\n",
    "import cv2\n",
    "import itertools\n",
    "import glob, os\n",
    "mydir1 = r'D:/Official/Masters Studies/Thesis/Dataset/Segmentation/Falzenwelb/analysis 2/segments'\n",
    "mydir2 = r'D:/Official/Masters Studies/Thesis/Dataset/Segmentation/Falzenwelb/analysis 2/markers'"
   ]
  },
  {
   "cell_type": "code",
   "execution_count": null,
   "id": "27b860e2",
   "metadata": {},
   "outputs": [
    {
     "name": "stdout",
     "output_type": "stream",
     "text": [
      "D:\\Official\\Masters Studies\\Thesis\\Dataset\\Segmentation\\Falzenwelb\\analysis 2\\images resized\n"
     ]
    }
   ],
   "source": [
    "%cd \"D:\\Official\\Masters Studies\\Thesis\\Dataset\\Segmentation\\Falzenwelb\\analysis 2\\images resized\"\n",
    "for fil in glob.glob(\"*.jpg\"):\n",
    "    img = plt.imread(fil)\n",
    "    img = cv2.cvtColor(img, cv2.COLOR_BGR2RGB)\n",
    "    img = cv2.GaussianBlur(img,(5,5),0)\n",
    "    res = skimage.segmentation.felzenszwalb(img, scale=600)\n",
    "    plt.imshow(res)\n",
    "    plt.imsave(os.path.join(mydir1,fil),res)\n",
    "    n_segments = len(np.unique(res))\n",
    "    s_index = []\n",
    "    selected_segments = 0\n",
    "    for i in np.unique(res):\n",
    "        segment = img.copy()\n",
    "        segment[res != i] = 0\n",
    "        n_pixels = np.sum(np.array(segment) != 0)\n",
    "        if 484 <= n_pixels <= 14400:\n",
    "            s_index.append(i)\n",
    "            selected_segments += 1\n",
    "    s_elements = itertools.cycle(s_index)\n",
    "    max_diff = 0\n",
    "    for i in range(selected_segments):\n",
    "        index = next(s_elements)\n",
    "        segment = img.copy()\n",
    "        segment = cv2.cvtColor(segment, cv2.COLOR_BGR2RGB)\n",
    "        segment[res != index] = 0\n",
    "        pixels = np.sum(np.array(segment) != 0)\n",
    "        avgR = np.sum(np.array(segment[:, :, 0]))/pixels\n",
    "        avgG = np.sum(np.array(segment[:, :, 1]))/pixels\n",
    "        avgB = np.sum(np.array(segment[:, :, 2]))/pixels\n",
    "        average = [avgR, avgG, avgB]\n",
    "        diffs = [abs(e[1] - e[0]) for e in itertools.permutations(average, 2)]\n",
    "        avg_diff = sum(diffs) / len(diffs)\n",
    "        if avg_diff > max_diff:\n",
    "            max_diff = avg_diff\n",
    "            cv2.imwrite(os.path.join(mydir2,fil), segment)"
   ]
  },
  {
   "cell_type": "code",
   "execution_count": null,
   "id": "f711e1fd",
   "metadata": {},
   "outputs": [],
   "source": []
  }
 ],
 "metadata": {
  "kernelspec": {
   "display_name": "Python 3",
   "language": "python",
   "name": "python3"
  },
  "language_info": {
   "codemirror_mode": {
    "name": "ipython",
    "version": 3
   },
   "file_extension": ".py",
   "mimetype": "text/x-python",
   "name": "python",
   "nbconvert_exporter": "python",
   "pygments_lexer": "ipython3",
   "version": "3.6.5"
  }
 },
 "nbformat": 4,
 "nbformat_minor": 5
}
