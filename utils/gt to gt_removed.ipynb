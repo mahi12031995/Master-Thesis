{
 "cells": [
  {
   "cell_type": "code",
   "execution_count": 1,
   "id": "1e28199b",
   "metadata": {},
   "outputs": [
    {
     "name": "stderr",
     "output_type": "stream",
     "text": [
      "100%|██████████████████████████████████████████████████████████████████████████████████| 47/47 [00:01<00:00, 26.87it/s]\n"
     ]
    }
   ],
   "source": [
    "from PIL import Image\n",
    "from tqdm import tqdm\n",
    "import numpy as np\n",
    "import os, shutil\n",
    "\n",
    "palette = {(0,   0,   0) : 0 ,\n",
    "         (128,  0, 0) : 2,\n",
    "        (0,  128, 0) : 1}\n",
    "\n",
    "def convert_from_color_segmentation(arr_3d):\n",
    "    arr_2d = np.zeros((arr_3d.shape[0], arr_3d.shape[1]), dtype=np.uint8)\n",
    "\n",
    "    for c, i in palette.items():\n",
    "        m = np.all(arr_3d == np.array(c).reshape(1, 1, 3), axis=2)\n",
    "        arr_2d[m] = i\n",
    "    return arr_2d\n",
    "\n",
    "DIR_SegmentationClass = r\"D:\\Official\\Masters Studies\\Thesis\\Dataset\\Segmentation\\Bolt Dataset\\selected_set\\cropped val set\\loose bolts 45\\gt resized\\\\\" \n",
    "DIR_SegmentationClassRaw = r\"D:\\Official\\Masters Studies\\Thesis\\Dataset\\Segmentation\\Bolt Dataset\\selected_set\\cropped val set\\loose bolts 45\\gt resized removed\\\\\"\n",
    "\n",
    "label_files = os.listdir(DIR_SegmentationClass)\n",
    "\n",
    "for l_f in tqdm(label_files):\n",
    "    arr = np.array(Image.open(DIR_SegmentationClass + l_f))\n",
    "    arr = arr[:,:,0:3]\n",
    "    arr_2d = convert_from_color_segmentation(arr)\n",
    "    Image.fromarray(arr_2d).save(DIR_SegmentationClassRaw + l_f)"
   ]
  },
  {
   "cell_type": "code",
   "execution_count": null,
   "id": "ab97a006",
   "metadata": {},
   "outputs": [],
   "source": []
  }
 ],
 "metadata": {
  "kernelspec": {
   "display_name": "Python 3",
   "language": "python",
   "name": "python3"
  },
  "language_info": {
   "codemirror_mode": {
    "name": "ipython",
    "version": 3
   },
   "file_extension": ".py",
   "mimetype": "text/x-python",
   "name": "python",
   "nbconvert_exporter": "python",
   "pygments_lexer": "ipython3",
   "version": "3.6.5"
  }
 },
 "nbformat": 4,
 "nbformat_minor": 5
}
