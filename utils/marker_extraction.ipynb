{
 "cells": [
  {
   "cell_type": "code",
   "execution_count": 4,
   "id": "87a362a3",
   "metadata": {},
   "outputs": [],
   "source": [
    "import cv2\n",
    "import numpy as np\n",
    "from PIL import Image\n",
    "import glob, os"
   ]
  },
  {
   "cell_type": "code",
   "execution_count": 5,
   "id": "ba24100c",
   "metadata": {},
   "outputs": [],
   "source": [
    "mydir = r'D:/Official/Masters Studies/Thesis/Dataset/Segmentation/Integration/result'"
   ]
  },
  {
   "cell_type": "code",
   "execution_count": 6,
   "id": "04d9796a",
   "metadata": {},
   "outputs": [
    {
     "name": "stdout",
     "output_type": "stream",
     "text": [
      "D:\\Official\\Masters Studies\\Thesis\\Dataset\\Segmentation\\Integration\\source\n"
     ]
    }
   ],
   "source": [
    "%cd  \"D:\\Official\\Masters Studies\\Thesis\\Dataset\\Segmentation\\Integration\\source\"\n",
    "\n",
    "f1 = open(\"img.txt\",\"r\")\n",
    "f2 = open(\"pred.txt\",\"r\")\n",
    "images = f1.read().split(\"\\n\")\n",
    "predictions = f2.read().split(\"\\n\")\n",
    "for o_img,pred in zip(images,predictions):\n",
    "    max_area = 0\n",
    "    m = 20\n",
    "    bb = []\n",
    "    sel_bb = []\n",
    "    cnt_a = []\n",
    "    cent_a = []\n",
    "    x = []\n",
    "    y = []\n",
    "    xw = []\n",
    "    yh = []\n",
    "    img = cv2.imread(pred)\n",
    "    g_img = cv2.cvtColor(img, cv2.COLOR_BGR2GRAY)\n",
    "    n_img = g_img.copy()\n",
    "    n_img[g_img == 75] = 0\n",
    "    contours, _ = cv2.findContours(n_img, cv2.RETR_LIST, cv2.CHAIN_APPROX_SIMPLE)\n",
    "    for c in contours:\n",
    "        area = cv2.contourArea(c)\n",
    "        if area > 50:\n",
    "            cnt_a.append(area)\n",
    "            rect = cv2.boundingRect(c)\n",
    "            a,b,c,d = rect\n",
    "            cent = [a+(c/2),b+(d/2)]\n",
    "            cent_a.append(cent)\n",
    "            bb.append(rect)\n",
    "    n = len(bb)\n",
    "    order = np.flip(np.argsort(cnt_a))\n",
    "    cent_o = [cent_a[i] for i in order]\n",
    "    bb_o = [bb[i] for i in order]\n",
    "    diff_h = [abs(cent_o[0][1] - cent_o[i][1]) for i in range(n)]\n",
    "    diff_w = [abs(cent_o[0][0] - cent_o[i][0]) for i in range(n)]\n",
    "    sel_w = [i for i,v in enumerate(diff_w) if v < 150.0]\n",
    "    sel_h = [i for i,v in enumerate(diff_h) if v < 150.0]\n",
    "    sel_bb_ind = list(set(sel_w).intersection(sel_h))\n",
    "    sel_bb = [bb_o[i] for i in sel_bb_ind]\n",
    "    ns = len(sel_bb)\n",
    "    for i in range(ns):\n",
    "        x.append(sel_bb[i][0])\n",
    "        y.append(sel_bb[i][1])\n",
    "        xw.append((sel_bb[i][0] + sel_bb[i][2]))\n",
    "        yh.append((sel_bb[i][1] + sel_bb[i][3]))\n",
    "    box = (min(x)-m, min(y)-m, max(xw)+m, max(yh)+m)\n",
    "    m_img = Image.open(o_img)\n",
    "    d_img = m_img.crop(box)\n",
    "    d_img.save(os.path.join(mydir,o_img))"
   ]
  },
  {
   "cell_type": "code",
   "execution_count": null,
   "id": "f895b982",
   "metadata": {},
   "outputs": [],
   "source": []
  }
 ],
 "metadata": {
  "kernelspec": {
   "display_name": "Python 3",
   "language": "python",
   "name": "python3"
  },
  "language_info": {
   "codemirror_mode": {
    "name": "ipython",
    "version": 3
   },
   "file_extension": ".py",
   "mimetype": "text/x-python",
   "name": "python",
   "nbconvert_exporter": "python",
   "pygments_lexer": "ipython3",
   "version": "3.6.5"
  }
 },
 "nbformat": 4,
 "nbformat_minor": 5
}
